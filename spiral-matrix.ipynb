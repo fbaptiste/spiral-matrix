{
 "cells": [
  {
   "cell_type": "markdown",
   "metadata": {},
   "source": [
    "### Spiral Matrix"
   ]
  },
  {
   "cell_type": "markdown",
   "metadata": {},
   "source": [
    "#### Problem"
   ]
  },
  {
   "cell_type": "markdown",
   "metadata": {},
   "source": [
    "Given an `m x n` matrix, such as:\n",
    "```\n",
    "1  2  3  4  5\n",
    "6  7  8  9  10\n",
    "11 12 13 14 15\n",
    "16 17 18 19 20\n",
    "```\n",
    "\n",
    "write a function that returns the entries of the matrix in a spiral fashion starting at the top-left.\n",
    "\n",
    "For the example above, result should be:\n",
    "\n",
    "```1 2 3 4 5 10 15 20 19 18 17 16 11 6 7 8 9 14 13 12```"
   ]
  },
  {
   "cell_type": "markdown",
   "metadata": {},
   "source": [
    "We'll provide three different solutions:\n",
    "1. brute force method\n",
    "2. slightly refined brute force method, using recursion\n",
    "3. solution that uses mutation, cyclically (is that a word??) removing rows, and columns until the matrix has been emptied."
   ]
  },
  {
   "cell_type": "markdown",
   "metadata": {},
   "source": [
    "There are pros and cons to each implementation:\n",
    "- Brute force method is not elegant, and code is hard to follow.\n",
    "- Recursive approach is easier to understand because each recursion step deals with one spiral only - but problem is recursion depth is limited and uses a lot of memory to maintain all the stack frames.\n",
    "- Both brute force and recursive methods assume square matrices - I tried generalizing it to non-square matrices, but the code just got horrendous (there's probably a better more readable approach, but that eludes me for now...)\n",
    "- The elimination solution is by far the easiest to understand, and, as an added bonus, it handles with rectangular matrices. It will not deal properly with ragged matrices (so we do require that each row contain the same number of elements).\n",
    "- The downside of the elimination method is it requires duplication of the data - so more memory overhead than a pure iterative solution like #1."
   ]
  },
  {
   "cell_type": "markdown",
   "metadata": {},
   "source": [
    "#### Solution 1"
   ]
  },
  {
   "cell_type": "markdown",
   "metadata": {},
   "source": [
    "This solution assumes a non-empty square matrix (1x1 is ok), and uses a set of repeating directions used to travel throughout the structure.\n",
    "\n",
    "We can think of the matrix, as having rows and columns set up as follows, and moving directionally within the matrix:\n",
    "\n",
    "```\n",
    "             columns\n",
    "        ------------->\n",
    "        |\n",
    " rows   |\n",
    "        |\n",
    "        v\n",
    "```\n",
    "\n",
    "Directions need to encode horizontal and vertical directions. \n",
    "\n",
    "We'll use a tuple `(row, column)`, where each elements of the tuple can be `1`, `-1` or `0`, indicating incrementing, decrementing or leaving constant respectively.\n",
    "\n",
    "To complete one spiral, we need to perform the following \"steps\" from each starting point:\n",
    "0. yield starting cell\n",
    "1. move and yield right until \"end\" of row, so direction is `(0, 1)`\n",
    "2. move and yield down until \"end\" of column, so direction is `(1, 0)`\n",
    "3. move and yield left until \"beginning\" of row, so direction is `(0, -1)`\n",
    "4. move and yield up until \"beginning\" of column, so direction is `(-1, 0)`\n",
    "\n",
    "Then we keep repeating these steps until we're done iterating through all the elements.\n",
    "\n",
    "So, we have a cycle of \"movements\" that make up one cycle, and just needs to be repeated.\n",
    "\n",
    "The only thing left is how we determine how many movements to make in each direction.\n",
    "\n",
    "If we consider an `nxn` matrix, we start at the first cell, then move `n-1` steps right, `n-1` steps down, `n-1` steps left and `n-2` steps up. We then need to repeat this operation for the \"remaining\" matrix, which will have `2` less rows and `2` less columns.\n",
    "\n",
    "First solution is a non-recursive approach."
   ]
  },
  {
   "cell_type": "code",
   "execution_count": 1,
   "metadata": {},
   "outputs": [],
   "source": [
    "from itertools import chain, repeat\n",
    "\n",
    "def iter_matrix(m):\n",
    "    dirs = [(0,1), (1,0), (0, -1), (-1, 0)]\n",
    "    row = 0\n",
    "    col = -1\n",
    "    n = len(m[0])\n",
    "    while n >= 1:\n",
    "        col += 1\n",
    "        yield m[row][col]\n",
    "        if n == 1:\n",
    "            # this was a 1x1 matrix, so done\n",
    "            return\n",
    "        moves = chain(repeat(dirs[0], n-1), repeat(dirs[1], n-1), repeat(dirs[2], n-1), repeat(dirs[3], n-2))\n",
    "        # could also write this as follows, but harder to understand and not much less code:\n",
    "        # moves = chain.from_iterable(repeat(dirs[i], n-2 if i == 3 else n-1) for i in range(4))\n",
    "        for move in moves:\n",
    "            row, col = row + move[0], col + move[1]\n",
    "            yield m[row][col]\n",
    "        n -= 2"
   ]
  },
  {
   "cell_type": "markdown",
   "metadata": {},
   "source": [
    "#### Solution 2"
   ]
  },
  {
   "cell_type": "markdown",
   "metadata": {},
   "source": [
    "So now, can make this into a recursive call as well, where each call prints one \"spiral\", and calls itself for the remaining elements. At each iteration we need to know the starting point in the overall matrix, and the matrix size (which decreases by 2 each iteration).\n",
    "\n",
    "This solution is (in my mind) clearer, but Python has a recursion depth limit (which can be increased, but probably unwise). Still this solution will work for matrices sized up to twice (more or less, depending on even or odd size) that depth limit:"
   ]
  },
  {
   "cell_type": "code",
   "execution_count": 2,
   "metadata": {},
   "outputs": [
    {
     "name": "stdout",
     "output_type": "stream",
     "text": [
      "Current recursion limit: 3000\n"
     ]
    }
   ],
   "source": [
    "import sys\n",
    "\n",
    "print('Current recursion limit:', sys.getrecursionlimit())"
   ]
  },
  {
   "cell_type": "code",
   "execution_count": 3,
   "metadata": {},
   "outputs": [],
   "source": [
    "from itertools import chain, repeat\n",
    "\n",
    "def recurse_iter_matrix(m, row=0, col=0, effective_size=None):\n",
    "    # use full matrix by default\n",
    "    n = effective_size if effective_size is not None else len(m)\n",
    "\n",
    "    dirs = [(0,1), (1,0), (0, -1), (-1, 0)]\n",
    "    \n",
    "    if n <= 0:\n",
    "        # empty matrix, nothing to do - exit recursion\n",
    "        return\n",
    "    \n",
    "    yield m[row][col]\n",
    "    \n",
    "    if n == 1:\n",
    "        # 1x1 matrix, so done after yielding first (and only) cell\n",
    "        return\n",
    "    \n",
    "    moves = list(chain(repeat(dirs[0], n-1), repeat(dirs[1], n-1), repeat(dirs[2], n-1), repeat(dirs[3], n-2)))\n",
    "    for move in moves:\n",
    "        row, col = row + move[0], col + move[1]\n",
    "        yield m[row][col]\n",
    "    \n",
    "    yield from recurse_iter_matrix(m, row, col+1, n-2)"
   ]
  },
  {
   "cell_type": "markdown",
   "metadata": {},
   "source": [
    "#### Examples using solutions 1 and 2"
   ]
  },
  {
   "cell_type": "markdown",
   "metadata": {},
   "source": [
    "Requires matrices to be square and non-empty."
   ]
  },
  {
   "cell_type": "code",
   "execution_count": 4,
   "metadata": {},
   "outputs": [],
   "source": [
    "samples = [\n",
    "    [[1,2,3,4,5], [6,7,8,9,10], [11,12,13,14,15],[16,17,18,19,20],[21,22,23,24,25]],\n",
    "    [[1, 2, 3, 4], [5, 6, 7, 8], [9, 10, 11, 12], [13, 14, 15, 16]],\n",
    "    [[1,2,3],[4,5,6],[7,8,9]],\n",
    "    [[1,2], [3,4]],\n",
    "    [[1]]\n",
    "]"
   ]
  },
  {
   "cell_type": "code",
   "execution_count": 5,
   "metadata": {},
   "outputs": [
    {
     "name": "stdout",
     "output_type": "stream",
     "text": [
      "--------------------\n",
      "Input:\n",
      "[[1, 2, 3, 4, 5],\n",
      " [6, 7, 8, 9, 10],\n",
      " [11, 12, 13, 14, 15],\n",
      " [16, 17, 18, 19, 20],\n",
      " [21, 22, 23, 24, 25]]\n",
      "\n",
      "Iteration:\n",
      "[1, 2, 3, 4, 5, 10, 15, 20, 25, 24, 23, 22, 21, 16, 11, 6, 7, 8, 9, 14, 19, 18, 17, 12, 13]\n",
      "\n",
      "Recursive:\n",
      "[1, 2, 3, 4, 5, 10, 15, 20, 25, 24, 23, 22, 21, 16, 11, 6, 7, 8, 9, 14, 19, 18, 17, 12, 13]\n",
      "\n",
      "--------------------\n",
      "Input:\n",
      "[[1, 2, 3, 4],\n",
      " [5, 6, 7, 8],\n",
      " [9, 10, 11, 12],\n",
      " [13, 14, 15, 16]]\n",
      "\n",
      "Iteration:\n",
      "[1, 2, 3, 4, 8, 12, 16, 15, 14, 13, 9, 5, 6, 7, 11, 10]\n",
      "\n",
      "Recursive:\n",
      "[1, 2, 3, 4, 8, 12, 16, 15, 14, 13, 9, 5, 6, 7, 11, 10]\n",
      "\n",
      "--------------------\n",
      "Input:\n",
      "[[1, 2, 3],\n",
      " [4, 5, 6],\n",
      " [7, 8, 9]]\n",
      "\n",
      "Iteration:\n",
      "[1, 2, 3, 6, 9, 8, 7, 4, 5]\n",
      "\n",
      "Recursive:\n",
      "[1, 2, 3, 6, 9, 8, 7, 4, 5]\n",
      "\n",
      "--------------------\n",
      "Input:\n",
      "[[1, 2],\n",
      " [3, 4]]\n",
      "\n",
      "Iteration:\n",
      "[1, 2, 4, 3]\n",
      "\n",
      "Recursive:\n",
      "[1, 2, 4, 3]\n",
      "\n",
      "--------------------\n",
      "Input:\n",
      "[[1]]\n",
      "\n",
      "Iteration:\n",
      "[1]\n",
      "\n",
      "Recursive:\n",
      "[1]\n",
      "\n"
     ]
    }
   ],
   "source": [
    "from pprint import pprint\n",
    "\n",
    "for sample in samples:\n",
    "    print('-' * 20)\n",
    "    print('Input:')\n",
    "    pprint(sample, width=len(sample) * 5)\n",
    "    print('\\nIteration:')\n",
    "    print(list(iter_matrix(sample)))\n",
    "    print('\\nRecursive:')\n",
    "    print(list(recurse_iter_matrix(sample)), end='\\n\\n')"
   ]
  },
  {
   "cell_type": "markdown",
   "metadata": {},
   "source": [
    "#### Solution 3"
   ]
  },
  {
   "cell_type": "markdown",
   "metadata": {},
   "source": [
    "This approach keeps trimming rows (top and bottom), and columns (left and right) until the matrix is empty.\n",
    "\n",
    "We establish a few helper functions first."
   ]
  },
  {
   "cell_type": "code",
   "execution_count": 6,
   "metadata": {},
   "outputs": [],
   "source": [
    "def eliminate_row(m, *, first=True, reverse=False):\n",
    "    \"\"\"Trims first or last row, and returns iterator in original/reversed order. \n",
    "    No assumption on matrix size/shape is made. \n",
    "    \n",
    "    Note: this not only returns the eliminated row, but also **mutates** the matrix m!\n",
    "    \n",
    "    :param m: 2D matrix (list of lists), will be mutated\n",
    "    :param first: True to eliminate first row, False to eliminate last row\n",
    "    :param reverse: return eliminated row in natural order (reverse=False), \n",
    "            or reversed order (reverse=True)\n",
    "    :return: returns an iterator\n",
    "    \"\"\"\n",
    "    row = m.pop(0 if first else -1)\n",
    "    return list(reversed(row)) if reverse else row"
   ]
  },
  {
   "cell_type": "code",
   "execution_count": 7,
   "metadata": {},
   "outputs": [],
   "source": [
    "def eliminate_column(m, *, first=True, reverse=False):\n",
    "    \"\"\"Trims first or last column, and returns iterator in original/reversed order. \n",
    "    No assumption on matrix size/shape is made. \n",
    "    \n",
    "    Note: this not only returns the eliminated column, but also **mutates** the matrix m!\n",
    "    \n",
    "    param m: 2D matrix (list of lists), will be mutated\n",
    "    param first: True to eliminate first column, False to eliminate last column\n",
    "    param reverse: return eliminated column in natural order (reverse=False), \n",
    "    or reversed order (reverse=True)\n",
    "    \"\"\"\n",
    "    \n",
    "    column = [row.pop(0 if first else -1) for row in m]\n",
    "    return list(reversed(column)) if reverse else column"
   ]
  },
  {
   "cell_type": "markdown",
   "metadata": {},
   "source": [
    "We're now ready to spiral through the matrix. No assumption need be made here about the shape/size of the matrix, other than it not be ragged (i.e. all rows have an equal number of elements).\n",
    "\n",
    "Also, we won't make the assumption that the input matrix is mutable, just an iterable of iterables. "
   ]
  },
  {
   "cell_type": "code",
   "execution_count": 8,
   "metadata": {},
   "outputs": [],
   "source": [
    "from functools import partial\n",
    "from itertools import cycle\n",
    "\n",
    "def eliminate_iter_matrix(m):\n",
    "    \"\"\"Generator that yields items in spiral\"\"\"\n",
    "    \n",
    "    # need a mutable list of lists for internal processing\n",
    "    # in any case, we also want a copy of the structure since we'll be mutating\n",
    "    # it, and don't want to mess with caller's data\n",
    "    # deepcopy won't be enough since we also want to make sure we have mutable data structures\n",
    "    m = [list(row) for row in m]\n",
    "    \n",
    "    # we make these eliminations in this order, and cycle until matrix is empty\n",
    "    moves = [\n",
    "        partial(eliminate_row, first=True, reverse=False),\n",
    "        partial(eliminate_column, first=False, reverse=False),\n",
    "        partial(eliminate_row, first=False, reverse=True),\n",
    "        partial(eliminate_column, first=True, reverse=True)\n",
    "    ]\n",
    "    \n",
    "    cycle_moves = cycle(moves)\n",
    "    \n",
    "    while m:\n",
    "        move = next(cycle_moves)\n",
    "        yield from move(m)"
   ]
  },
  {
   "cell_type": "markdown",
   "metadata": {},
   "source": [
    "#### Examples"
   ]
  },
  {
   "cell_type": "markdown",
   "metadata": {},
   "source": [
    "We'll try the same square matrices as before, and include results from all methods - (hopefully they all match!)\n",
    "\n",
    "Requires matrices to be rectangular and non-empty."
   ]
  },
  {
   "cell_type": "code",
   "execution_count": 9,
   "metadata": {},
   "outputs": [
    {
     "name": "stdout",
     "output_type": "stream",
     "text": [
      "--------------------\n",
      "Input:\n",
      "[[1, 2, 3, 4, 5],\n",
      " [6, 7, 8, 9, 10],\n",
      " [11, 12, 13, 14, 15],\n",
      " [16, 17, 18, 19, 20],\n",
      " [21, 22, 23, 24, 25]]\n",
      "\n",
      "Iteration:\n",
      "[1, 2, 3, 4, 5, 10, 15, 20, 25, 24, 23, 22, 21, 16, 11, 6, 7, 8, 9, 14, 19, 18, 17, 12, 13]\n",
      "\n",
      "Recursive:\n",
      "[1, 2, 3, 4, 5, 10, 15, 20, 25, 24, 23, 22, 21, 16, 11, 6, 7, 8, 9, 14, 19, 18, 17, 12, 13]\n",
      "\n",
      "Elimination:\n",
      "[1, 2, 3, 4, 5, 10, 15, 20, 25, 24, 23, 22, 21, 16, 11, 6, 7, 8, 9, 14, 19, 18, 17, 12, 13]\n",
      "\n",
      "--------------------\n",
      "Input:\n",
      "[[1, 2, 3, 4],\n",
      " [5, 6, 7, 8],\n",
      " [9, 10, 11, 12],\n",
      " [13, 14, 15, 16]]\n",
      "\n",
      "Iteration:\n",
      "[1, 2, 3, 4, 8, 12, 16, 15, 14, 13, 9, 5, 6, 7, 11, 10]\n",
      "\n",
      "Recursive:\n",
      "[1, 2, 3, 4, 8, 12, 16, 15, 14, 13, 9, 5, 6, 7, 11, 10]\n",
      "\n",
      "Elimination:\n",
      "[1, 2, 3, 4, 8, 12, 16, 15, 14, 13, 9, 5, 6, 7, 11, 10]\n",
      "\n",
      "--------------------\n",
      "Input:\n",
      "[[1, 2, 3],\n",
      " [4, 5, 6],\n",
      " [7, 8, 9]]\n",
      "\n",
      "Iteration:\n",
      "[1, 2, 3, 6, 9, 8, 7, 4, 5]\n",
      "\n",
      "Recursive:\n",
      "[1, 2, 3, 6, 9, 8, 7, 4, 5]\n",
      "\n",
      "Elimination:\n",
      "[1, 2, 3, 6, 9, 8, 7, 4, 5]\n",
      "\n",
      "--------------------\n",
      "Input:\n",
      "[[1, 2],\n",
      " [3, 4]]\n",
      "\n",
      "Iteration:\n",
      "[1, 2, 4, 3]\n",
      "\n",
      "Recursive:\n",
      "[1, 2, 4, 3]\n",
      "\n",
      "Elimination:\n",
      "[1, 2, 4, 3]\n",
      "\n",
      "--------------------\n",
      "Input:\n",
      "[[1]]\n",
      "\n",
      "Iteration:\n",
      "[1]\n",
      "\n",
      "Recursive:\n",
      "[1]\n",
      "\n",
      "Elimination:\n",
      "[1]\n",
      "\n"
     ]
    }
   ],
   "source": [
    "from pprint import pprint\n",
    "\n",
    "for sample in samples:\n",
    "    print('-' * 20)\n",
    "    print('Input:')\n",
    "    pprint(sample, width=len(sample) * 5)\n",
    "    print('\\nIteration:')\n",
    "    print(list(iter_matrix(sample)))\n",
    "    print('\\nRecursive:')\n",
    "    print(list(recurse_iter_matrix(sample)))\n",
    "    print('\\nElimination:')\n",
    "    print(list(eliminate_iter_matrix(sample)), end='\\n\\n')"
   ]
  },
  {
   "cell_type": "markdown",
   "metadata": {},
   "source": [
    "But this solution is not limited to square matrices. Here are some examples:"
   ]
  },
  {
   "cell_type": "code",
   "execution_count": 10,
   "metadata": {},
   "outputs": [
    {
     "name": "stdout",
     "output_type": "stream",
     "text": [
      "--------------------\n",
      "Input:\n",
      "[[1, 2, 3],\n",
      " [4, 5, 6]]\n",
      "\n",
      "[1, 2, 3, 6, 5, 4]\n",
      "\n",
      "--------------------\n",
      "Input:\n",
      "[[1, 2, 3],\n",
      " [4, 5, 6],\n",
      " [7, 8, 9],\n",
      " [10, 11, 12]]\n",
      "\n",
      "[1, 2, 3, 6, 9, 12, 11, 10, 7, 4, 5, 8]\n",
      "\n",
      "--------------------\n",
      "Input:\n",
      "[[1, 2, 3, 4],\n",
      " [5, 6, 7, 8],\n",
      " [9, 10, 11, 12]]\n",
      "\n",
      "[1, 2, 3, 4, 8, 12, 11, 10, 9, 5, 6, 7]\n",
      "\n",
      "--------------------\n",
      "Input:\n",
      "[[1, 2]]\n",
      "\n",
      "[1, 2]\n",
      "\n",
      "--------------------\n",
      "Input:\n",
      "[[1],\n",
      " [2]]\n",
      "\n",
      "[1, 2]\n",
      "\n",
      "--------------------\n",
      "Input:\n",
      "[[1]]\n",
      "\n",
      "[1]\n",
      "\n"
     ]
    }
   ],
   "source": [
    "from pprint import pprint\n",
    "samples = [\n",
    "    [[1, 2, 3], [4, 5, 6]],\n",
    "    [[1, 2, 3], [4, 5, 6], [7, 8, 9], [10, 11, 12]],\n",
    "    [[1, 2, 3, 4], [5, 6, 7, 8], [9, 10, 11, 12]],\n",
    "    [[1, 2]],\n",
    "    [[1], [2]],\n",
    "    [[1]]\n",
    "]\n",
    "\n",
    "for sample in samples:\n",
    "    print('-' * 20)\n",
    "    print('Input:')\n",
    "    pprint(sample, width=max(len(row) for row in sample) * 5)\n",
    "    print()\n",
    "    print(list(eliminate_iter_matrix(sample)), end='\\n\\n')"
   ]
  },
  {
   "cell_type": "code",
   "execution_count": null,
   "metadata": {},
   "outputs": [],
   "source": []
  }
 ],
 "metadata": {
  "kernelspec": {
   "display_name": "Python 3",
   "language": "python",
   "name": "python3"
  },
  "language_info": {
   "codemirror_mode": {
    "name": "ipython",
    "version": 3
   },
   "file_extension": ".py",
   "mimetype": "text/x-python",
   "name": "python",
   "nbconvert_exporter": "python",
   "pygments_lexer": "ipython3",
   "version": "3.6.7"
  }
 },
 "nbformat": 4,
 "nbformat_minor": 2
}
